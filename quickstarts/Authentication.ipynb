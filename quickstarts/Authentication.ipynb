{
  "cells": [
    {
      "cell_type": "markdown",
      "metadata": {
        "id": "Tce3stUlHN0L"
      },
      "source": [
        "##### Copyright 2025 Google LLC."
      ]
    },
    {
      "cell_type": "code",
      "execution_count": null,
      "metadata": {
        "cellView": "form",
        "id": "tuOe1ymfHZPu"
      },
      "outputs": [],
      "source": [
        "# @title Licensed under the Apache License, Version 2.0 (the \"License\");\n",
        "# you may not use this file except in compliance with the License.\n",
        "# You may obtain a copy of the License at\n",
        "#\n",
        "# https://www.apache.org/licenses/LICENSE-2.0\n",
        "#\n",
        "# Unless required by applicable law or agreed to in writing, software\n",
        "# distributed under the License is distributed on an \"AS IS\" BASIS,\n",
        "# WITHOUT WARRANTIES OR CONDITIONS OF ANY KIND, either express or implied.\n",
        "# See the License for the specific language governing permissions and\n",
        "# limitations under the License."
      ]
    },
    {
      "cell_type": "markdown",
      "metadata": {
        "id": "yeadDkMiISin"
      },
      "source": [
        "# Gemini API: Authentication Quickstart"
      ]
    },
    {
      "cell_type": "markdown",
      "metadata": {
        "id": "lEXQ3OwKIa-O"
      },
      "source": [
        "<a target=\"_blank\" href=\"https://colab.research.google.com/github/google-gemini/cookbook/blob/main/quickstarts/Authentication.ipynb\"><img src=\"https://colab.research.google.com/assets/colab-badge.svg\" height=30/></a>"
      ]
    },
    {
      "cell_type": "markdown",
      "metadata": {
        "id": "df1767a3d1cc"
      },
      "source": [
        "The Gemini API uses API keys for authentication. This notebook walks you through creating an API key, and using it with the Python SDK or a command-line tool like `curl`."
      ]
    },
    {
      "cell_type": "markdown",
      "metadata": {
        "id": "mhFKmRmxi5B-"
      },
      "source": [
        "## Create an API key\n",
        "\n",
        "You can [create](https://aistudio.google.com/app/apikey) your API key using Google AI Studio with a single click.  \n",
        "\n",
        "Remember to treat your API key like a password. Don't accidentally save it in a notebook or source file you later commit to GitHub. This notebook shows you two ways you can securely store your API key.\n",
        "\n",
        "* If you're using Google Colab, it's recommended to store your key in Colab Secrets.\n",
        "\n",
        "* If you're using a different development environment (or calling the Gemini API through `cURL` in your terminal), it's recommended to store your key in an [environment variable](https://en.wikipedia.org/wiki/Environment_variable).\n",
        "\n",
        "Let's start with Colab Secrets."
      ]
    },
    {
      "cell_type": "markdown",
      "metadata": {
        "id": "dEoigYI9Jw_K"
      },
      "source": [
        "## Add your key to Colab Secrets\n",
        "\n",
        "Add your API key to the Colab Secrets manager to securely store it.\n",
        "\n",
        "1. Open your Google Colab notebook and click on the 🔑 **Secrets** tab in the left panel.\n",
        "   \n",
        "   <img src=\"https://storage.googleapis.com/generativeai-downloads/images/secrets.jpg\" alt=\"You can find the Secrets tab on the left panel.\" width=50%>\n",
        "\n",
        "2. Create a new secret with the name `GOOGLE_API_KEY`.\n",
        "3. Copy and paste your API key into the `Value` input box of `GOOGLE_API_KEY`.\n",
        "4. Toggle the button on the left to allow all notebooks access to the secret.\n"
      ]
    },
    {
      "cell_type": "markdown",
      "metadata": {
        "id": "jRY1eioF4gUB"
      },
      "source": [
        "## Install the Python SDK"
      ]
    },
    {
      "cell_type": "code",
      "execution_count": null,
      "metadata": {
        "id": "xuiLSV7amy3P"
      },
      "outputs": [],
      "source": [
        "%pip install -qU 'google-genai>=1.19.0'"
      ]
    },
    {
      "cell_type": "markdown",
      "metadata": {
        "id": "3dw8ygh74mVc"
      },
      "source": [
        "## Configure the SDK with your API key\n",
        "\n",
        "You create a client using your API key, but instead of pasting your key into the notebook, you'll read it from Colab Secrets thanks to `userdata`."
      ]
    },
    {
      "cell_type": "code",
      "execution_count": 2,
      "metadata": {
        "id": "DTl-qZp34sht"
      },
      "outputs": [],
      "source": [
        "from google import genai\n",
        "from google.colab import userdata\n",
        "\n",
        "GOOGLE_API_KEY = userdata.get('GOOGLE_API_KEY')\n",
        "client = genai.Client(api_key=GOOGLE_API_KEY)"
      ]
    },
    {
      "cell_type": "markdown",
      "metadata": {
        "id": "b7ceb7517bf5"
      },
      "source": [
        "Now choose a model. The Gemini API offers different models that are optimized for specific use cases. For more information check [Gemini models](https://ai.google.dev/gemini-api/docs/models)"
      ]
    },
    {
      "cell_type": "code",
      "execution_count": null,
      "metadata": {
        "id": "7135d9ae3e4b"
      },
      "outputs": [],
      "source": [
        "MODEL_ID = \"gemini-2.5-flash-preview-05-20\" # @param [\"gemini-2.0-flash-lite\",\"gemini-2.0-flash\",\"gemini-2.5-flash-preview-05-20\",\"gemini-2.5-pro-preview-06-05\"] {\"allow-input\":true, isTemplate: true}"
      ]
    },
    {
      "cell_type": "markdown",
      "metadata": {
        "id": "tr7oAO6-nMsE"
      },
      "source": [
        "And that's it! Now you're ready to call the Gemini API."
      ]
    },
    {
      "cell_type": "code",
      "execution_count": 10,
      "metadata": {
        "id": "n6sXnWrJoKoo",
        "colab": {
          "base_uri": "https://localhost:8080/",
          "height": 1000
        },
        "outputId": "b509c5b7-1dd8-44ad-fb51-5b1c98300179"
      },
      "outputs": [
        {
          "output_type": "display_data",
          "data": {
            "text/plain": [
              "<IPython.core.display.Markdown object>"
            ],
            "text/markdown": "Python provides incredibly flexible ways to sort lists! You have two primary built-in options, plus the ability to customize the sorting logic.\n\nHere are the most common ways, with explanations and examples:\n\n---\n\n### 1. `list.sort()` - Sorts the list **in-place**\n\nThis method modifies the original list directly and doesn't return a new list (it returns `None`). Use this when you don't need to preserve the original order of the list.\n\n**Basic Usage:**\n\n```python\nmy_list = [3, 1, 4, 1, 5, 9, 2, 6]\nprint(\"Original list:\", my_list)\n\nmy_list.sort() # Sorts in ascending order by default\nprint(\"Sorted in-place (ascending):\", my_list)\n\n# Sorting in descending order\nmy_list.sort(reverse=True)\nprint(\"Sorted in-place (descending):\", my_list)\n```\n\n**Output:**\n\n```\nOriginal list: [3, 1, 4, 1, 5, 9, 2, 6]\nSorted in-place (ascending): [1, 1, 2, 3, 4, 5, 6, 9]\nSorted in-place (descending): [9, 6, 5, 4, 3, 2, 1, 1]\n```\n\n---\n\n### 2. `sorted()` - Returns a **new sorted list**\n\nThis built-in function returns a *new* sorted list, leaving the original list unchanged. This is often preferred when you need to keep the original list intact or when sorting an iterable that isn't a list (like a tuple, set, or dictionary keys/values).\n\n**Basic Usage:**\n\n```python\noriginal_list = [3, 1, 4, 1, 5, 9, 2, 6]\nprint(\"Original list:\", original_list)\n\nnew_sorted_list_asc = sorted(original_list) # Returns a new sorted list (ascending)\nprint(\"New sorted list (ascending):\", new_sorted_list_asc)\nprint(\"Original list after sorted():\", original_list) # Original is unchanged\n\nnew_sorted_list_desc = sorted(original_list, reverse=True) # Returns a new sorted list (descending)\nprint(\"New sorted list (descending):\", new_sorted_list_desc)\n```\n\n**Output:**\n\n```\nOriginal list: [3, 1, 4, 1, 5, 9, 2, 6]\nNew sorted list (ascending): [1, 1, 2, 3, 4, 5, 6, 9]\nOriginal list after sorted(): [3, 1, 4, 1, 5, 9, 2, 6]\nNew sorted list (descending): [9, 6, 5, 4, 3, 2, 1, 1]\n```\n\n---\n\n### 3. Custom Sorting with the `key` Argument\n\nBoth `list.sort()` and `sorted()` accept a `key` argument, which is a function that will be called on each element of the list before comparisons are made. This is incredibly powerful for sorting complex data structures or non-standard types.\n\n**a) Sorting Strings (e.g., Case-Insensitive):**\n\n```python\nwords = [\"Banana\", \"apple\", \"Cherry\", \"Date\"]\n\n# Default sort (case-sensitive, 'B' < 'a')\nprint(\"Default string sort:\", sorted(words))\n\n# Case-insensitive sort using str.lower as the key\nprint(\"Case-insensitive sort:\", sorted(words, key=str.lower))\n\n# Sort by length of the word\nprint(\"Sort by length:\", sorted(words, key=len))\n```\n\n**Output:**\n\n```\nDefault string sort: ['Banana', 'Cherry', 'Date', 'apple']\nCase-insensitive sort: ['apple', 'Banana', 'Cherry', 'Date']\nSort by length: ['Date', 'Banana', 'apple', 'Cherry']\n```\n\n**b) Sorting Lists of Tuples/Lists (by a specific element):**\n\n```python\ndata = [(\"Alice\", 30), (\"Bob\", 25), (\"Charlie\", 35), (\"David\", 25)]\n\n# Sort by age (the second element of each tuple)\n# Using a lambda function:\nsorted_by_age = sorted(data, key=lambda item: item[1])\nprint(\"Sorted by age:\", sorted_by_age)\n\n# Sort by age (descending), then by name (ascending) for ties\nsorted_by_age_then_name = sorted(data, key=lambda item: (item[1], item[0]), reverse=True)\nprint(\"Sorted by age (desc) then name (asc for ties):\", sorted_by_age_then_name)\n\n# For multiple criteria, you can pass a tuple of keys:\nsorted_by_name_then_age = sorted(data, key=lambda item: (item[0], item[1]))\nprint(\"Sorted by name then age:\", sorted_by_name_then_age)\n\n# A more efficient alternative for item access: operator.itemgetter\nimport operator\nsorted_by_age_itemgetter = sorted(data, key=operator.itemgetter(1))\nprint(\"Sorted by age (itemgetter):\", sorted_by_age_itemgetter)\n```\n\n**Output:**\n\n```\nSorted by age: [('Bob', 25), ('David', 25), ('Alice', 30), ('Charlie', 35)]\nSorted by age (desc) then name (asc for ties): [('Charlie', 35), ('Alice', 30), ('David', 25), ('Bob', 25)]\nSorted by name then age: [('Alice', 30), ('Bob', 25), ('Charlie', 35), ('David', 25)]\nSorted by age (itemgetter): [('Bob', 25), ('David', 25), ('Alice', 30), ('Charlie', 35)]\n```\n\n**c) Sorting Custom Objects:**\n\n```python\nclass Person:\n    def __init__(self, name, age):\n        self.name = name\n        self.age = age\n\n    def __repr__(self): # This helps with printing the object nicely\n        return f\"Person(name='{self.name}', age={self.age})\"\n\npeople = [\n    Person(\"Alice\", 30),\n    Person(\"Bob\", 25),\n    Person(\"Charlie\", 35),\n    Person(\"David\", 25)\n]\n\n# Sort by age\nsorted_people_by_age = sorted(people, key=lambda p: p.age)\nprint(\"Sorted by age:\", sorted_people_by_age)\n\n# Sort by name\nsorted_people_by_name = sorted(people, key=lambda p: p.name)\nprint(\"Sorted by name:\", sorted_people_by_name)\n\n# Sort by age (descending), then by name (ascending) for ties\nsorted_people_complex = sorted(people, key=lambda p: (p.age, p.name), reverse=True)\nprint(\"Sorted by age (desc) then name (asc for ties):\", sorted_people_complex)\n\n# A more efficient alternative for attribute access: operator.attrgetter\nimport operator\nsorted_people_by_age_attrgetter = sorted(people, key=operator.attrgetter('age'))\nprint(\"Sorted by age (attrgetter):\", sorted_people_by_age_attrgetter)\n```\n\n**Output:**\n\n```\nSorted by age: [Person(name='Bob', age=25), Person(name='David', age=25), Person(name='Alice', age=30), Person(name='Charlie', age=35)]\nSorted by name: [Person(name='Alice', age=30), Person(name='Bob', age=25), Person(name='Charlie', age=35), Person(name='David', age=25)]\nSorted by age (desc) then name (asc for ties): [Person(name='Charlie', age=35), Person(name='Alice', age=30), Person(name='David', age=25), Person(name='Bob', age=25)]\nSorted by age (attrgetter): [Person(name='Bob', age=25), Person(name='David', age=25), Person(name='Alice', age=30), Person(name='Charlie', age=35)]\n```\n\n---\n\n### Which one to choose?\n\n*   **`list.sort()`:** Use when you *don't need the original list* and want to save memory (as it modifies the list in-place). It's slightly more performant for lists because it doesn't create a copy.\n*   **`sorted()`:** Use when you *need to preserve the original list* or when sorting any other iterable (tuples, sets, etc.) into a new list. This is generally the safer and more flexible choice for most scenarios.\n\nBoth methods use Timsort, a hybrid stable sorting algorithm, which is highly optimized and efficient for various types of real-world data."
          },
          "metadata": {}
        }
      ],
      "source": [
        "from IPython.display import Markdown\n",
        "\n",
        "response = client.models.generate_content(\n",
        "    model=MODEL_ID,\n",
        "    contents=\"Please give me python code to sort a list.\"\n",
        ")\n",
        "\n",
        "display(Markdown(response.text))"
      ]
    },
    {
      "source": [
        "MODEL_ID = \"gemini-2.5-flash-preview-05-20\" # @param [\"gemini-2.0-flash-lite\",\"gemini-2.0-flash\",\"gemini-2.5-flash-preview-05-20\",\"gemini-2.5-pro-preview-06-05\"] {\"allow-input\":true, isTemplate: true}"
      ],
      "cell_type": "code",
      "metadata": {
        "id": "52OfPmLTsaeO"
      },
      "execution_count": 8,
      "outputs": []
    },
    {
      "source": [
        "from IPython.display import Markdown\n",
        "from google import genai # Ensure genai is imported if not done in a previous cell\n",
        "\n",
        "response = client.models.generate_content(\n",
        "    model=MODEL_ID,\n",
        "    contents=\"Please give me python code to sort a list.\"\n",
        ")\n",
        "\n",
        "display(Markdown(response.text))"
      ],
      "cell_type": "code",
      "metadata": {
        "id": "mAF6jBFBsgAq",
        "outputId": "f869bdfe-8b07-4bce-e465-1b81f84aab28",
        "colab": {
          "base_uri": "https://localhost:8080/",
          "height": 1000
        }
      },
      "execution_count": 9,
      "outputs": [
        {
          "output_type": "display_data",
          "data": {
            "text/plain": [
              "<IPython.core.display.Markdown object>"
            ],
            "text/markdown": "Python provides incredibly convenient and powerful ways to sort lists using built-in functions. There are two primary methods:\n\n1.  **`list.sort()`**: This method sorts the list **in-place**, meaning it modifies the original list directly and doesn't return a new list (it returns `None`).\n2.  **`sorted()`**: This built-in function returns a **new sorted list**, leaving the original list unchanged. It can take any iterable (not just lists) as input.\n\nLet's look at examples for both, including common customizations.\n\n---\n\n## 1. Using `list.sort()` (In-Place Sort)\n\nUse this when you don't need the original unsorted list anymore.\n\n```python\n# --- Example 1: Basic numeric sort ---\nmy_numbers = [3, 1, 4, 1, 5, 9, 2, 6]\nprint(\"Original numbers:\", my_numbers)\n\nmy_numbers.sort() # Sorts the list in-place, ascending by default\nprint(\"Sorted numbers (ascending):\", my_numbers)\n\nprint(\"-\" * 30)\n\n# --- Example 2: Sorting in descending order ---\nmy_letters = ['z', 'c', 'x', 'a', 'b', 'y']\nprint(\"Original letters:\", my_letters)\n\nmy_letters.sort(reverse=True) # Sorts in-place, descending\nprint(\"Sorted letters (descending):\", my_letters)\n\nprint(\"-\" * 30)\n\n# --- Example 3: Sorting with a custom key (e.g., by string length) ---\nmy_words = [\"apple\", \"banana\", \"kiwi\", \"grapefruit\", \"date\"]\nprint(\"Original words:\", my_words)\n\n# Sorts by the length of each word\nmy_words.sort(key=len)\nprint(\"Sorted words (by length):\", my_words)\n\n# Sorts by the length of each word, then reverse\nmy_words.sort(key=len, reverse=True)\nprint(\"Sorted words (by length, descending):\", my_words)\n\nprint(\"-\" * 30)\n\n# --- Example 4: Sorting a list of tuples by a specific element ---\n# A list of (name, age) tuples\npeople = [(\"Alice\", 30), (\"Bob\", 25), (\"Charlie\", 35), (\"David\", 25)]\nprint(\"Original people list:\", people)\n\n# Sort by age (the second element, index 1)\npeople.sort(key=lambda person: person[1])\nprint(\"Sorted people (by age, ascending):\", people)\n\n# Sort by age (descending), then by name (ascending) for ties\n# This shows stability: David and Bob (both 25) maintain their original relative order if not for the second key.\n# For multiple keys, you can create a tuple of keys\npeople.sort(key=lambda person: (person[1], person[0]), reverse=False) # (age, name)\nprint(\"Sorted people (by age then name):\", people)\n\n```\n\n## 2. Using `sorted()` (Returns a New List)\n\nUse this when you want to preserve the original list.\n\n```python\n# --- Example 1: Basic numeric sort ---\nmy_numbers = [3, 1, 4, 1, 5, 9, 2, 6]\nprint(\"Original numbers:\", my_numbers)\n\n# sorted() returns a NEW list, doesn't modify original\nnew_sorted_numbers = sorted(my_numbers)\nprint(\"New sorted numbers (ascending):\", new_sorted_numbers)\nprint(\"Original numbers (unchanged):\", my_numbers)\n\nprint(\"-\" * 30)\n\n# --- Example 2: Sorting in descending order ---\nmy_letters = ['z', 'c', 'x', 'a', 'b', 'y']\nprint(\"Original letters:\", my_letters)\n\nnew_sorted_letters_desc = sorted(my_letters, reverse=True)\nprint(\"New sorted letters (descending):\", new_sorted_letters_desc)\nprint(\"Original letters (unchanged):\", my_letters)\n\nprint(\"-\" * 30)\n\n# --- Example 3: Sorting with a custom key (e.g., by string length) ---\nmy_words = [\"apple\", \"banana\", \"kiwi\", \"grapefruit\", \"date\"]\nprint(\"Original words:\", my_words)\n\nnew_sorted_words_by_len = sorted(my_words, key=len)\nprint(\"New sorted words (by length):\", new_sorted_words_by_len)\nprint(\"Original words (unchanged):\", my_words)\n\nprint(\"-\" * 30)\n\n# --- Example 4: Sorting a list of custom objects by an attribute ---\nclass Product:\n    def __init__(self, name, price):\n        self.name = name\n        self.price = price\n    def __repr__(self): # For nice printing\n        return f\"Product({self.name}, ${self.price:.2f})\"\n\nproducts = [\n    Product(\"Laptop\", 1200.00),\n    Product(\"Mouse\", 25.50),\n    Product(\"Keyboard\", 75.00),\n    Product(\"Monitor\", 300.00)\n]\nprint(\"Original products:\", products)\n\n# Sort products by price\nsorted_products_by_price = sorted(products, key=lambda p: p.price)\nprint(\"Sorted products (by price):\", sorted_products_by_price)\n\n# Sort products by name\nsorted_products_by_name = sorted(products, key=lambda p: p.name)\nprint(\"Sorted products (by name):\", sorted_products_by_name)\n```\n\n---\n\n## Key Concepts Explained:\n\n*   **`key` argument**: This is an optional argument that specifies a function of one argument that is used to extract a comparison key from each list element. For example, `key=len` means that for each element, its length will be used for comparison. `key=lambda x: x[1]` means the second element of `x` will be used as the key.\n*   **`reverse` argument**: Set this to `True` to sort in descending order. By default, it's `False` (ascending).\n*   **Stability**: Python's sort is guaranteed to be stable. This means that if two elements have the same key, their relative order in the original list is preserved in the sorted list. This is why when sorting `people` by age (25, 25), \"Bob\" remains before \"David\" if they were originally in that order.\n*   **Performance**: Python's built-in sort uses an algorithm called **Timsort**, which is a hybrid stable sorting algorithm, derived from merge sort and insertion sort. It is highly optimized and performs very well on various kinds of real-world data.\n\nChoose `list.sort()` if you don't need the original order, and `sorted()` if you do."
          },
          "metadata": {}
        }
      ]
    },
    {
      "cell_type": "markdown",
      "metadata": {
        "id": "BTdQtZri1Brs"
      },
      "source": [
        "## Store your key in an environment variable"
      ]
    },
    {
      "cell_type": "markdown",
      "metadata": {
        "id": "gZDX51Y27pN4"
      },
      "source": [
        "If you're using a different development environment (or calling the Gemini API through `cURL` in your terminal), it's recommended to store your key in an environment variable.\n",
        "\n",
        "To store your key in an environment variable, open your terminal and run:\n",
        "\n",
        "```export GOOGLE_API_KEY=\"YOUR_API_KEY\"```\n",
        "\n",
        "If you're using Python, you can add these two lines to your notebook to read the key:\n",
        "\n",
        "```\n",
        "import os\n",
        "client = genai.Client(api_key=os.environ['GOOGLE_API_KEY'])\n",
        "```\n",
        "\n",
        "Alternatively, if it isn't provided explicitly, the client will look for the API key.\n",
        "\n",
        "```\n",
        "client = genai.Client()\n",
        "```\n",
        "\n",
        "Or, if you're calling the API through your terminal using `cURL`, you can copy and paste this code to read your key from the environment variable.\n",
        "\n",
        "```\n",
        "curl \"https://generativelanguage.googleapis.com/v1beta/models/gemini-2.0-flash:generateContent?key=$GOOGLE_API_KEY\" \\\n",
        "    -H 'Content-Type: application/json' \\\n",
        "    -X POST \\\n",
        "    -d '{\n",
        "      \"contents\": [{\n",
        "        \"parts\":[{\n",
        "          \"text\": \"Please give me Python code to sort a list.\"\n",
        "        }]\n",
        "      }]\n",
        "    }'\n",
        "```\n"
      ]
    },
    {
      "cell_type": "markdown",
      "metadata": {
        "id": "CAOKOcax1xZY"
      },
      "source": [
        "## Learning more\n",
        "\n",
        "Now that you know how to manage your API key, you've everything to [get started](./Get_started.ipynb) with Gemini. Check all the [quickstart guides](https://github.com/google-gemini/cookbook/tree/main/quickstarts) from the Cookbook, and in particular the [Get started](./Get_started.ipynb) one."
      ]
    }
  ],
  "metadata": {
    "colab": {
      "name": "Authentication.ipynb",
      "provenance": []
    },
    "google": {
      "image_path": "/site-assets/images/share.png",
      "keywords": [
        "examples",
        "googleai",
        "samplecode",
        "python",
        "embed",
        "function"
      ]
    },
    "kernelspec": {
      "display_name": "Python 3",
      "name": "python3"
    }
  },
  "nbformat": 4,
  "nbformat_minor": 0
}